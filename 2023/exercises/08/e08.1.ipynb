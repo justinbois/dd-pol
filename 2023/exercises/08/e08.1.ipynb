{
 "cells": [
  {
   "cell_type": "markdown",
   "metadata": {},
   "source": [
    "# Exercise 8.1: Analysis of microtubule catastrophe\n",
    "\n",
    "[Dataset download](https://s3.amazonaws.com/bebi103.caltech.edu/data/gardner_mt_catastrophe_only_tubulin.csv)\n",
    "\n",
    "<hr>"
   ]
  },
  {
   "cell_type": "markdown",
   "metadata": {},
   "source": [
    "Refresh yourself about the microtubule catastrophe data we explored previously. The data set we used there was from a control experiment wherein [Garner, Zanic, and coworkers](https://doi.org/10.1016/j.cell.2011.10.037) compared measurements of microtubule catastrophe times for experiments using fluorescently labeled tubulin and unlabeled tubulin. In this problem you will investigate microtubule catastrophe using labeled tubulin for different concentrations of total tubulin.\n",
    "\n",
    "You can download the data set for  microtubule catastrophe times for various concentrations of tubulin here: [https://s3.amazonaws.com/bebi103.caltech.edu/data/gardner_mt_catastrophe_only_tubulin.csv](https://s3.amazonaws.com/bebi103.caltech.edu/data/gardner_mt_catastrophe_only_tubulin.csv).\n",
    "\n",
    "**a)** I shouldn't have to say this, but perform an exploratory data analysis on the data set.\n",
    "\n",
    "**b)** In their [paper](http://dx.doi.org/10.1016/j.cell.2011.10.037), Gardner, Zanic, and coworkers modeled microtubule catastrophe times as Gamma distributed. Obtain a maximum likelihood estimate for the parameters of the Gamma distribution. Use the data set with 12 µM tubulin.\n",
    "\n",
    "**c)** Obtain a maximum likelihood estimate for the parameters $\\beta_1$ and $\\beta_2$ from the model where the arrival of two successive Poisson processes (with different rates) immediately trigger microtubule catastrophe. As a reminder, the PDF for microtubule catastrophe times is\n",
    "\n",
    "\\begin{align}\n",
    "f(t;\\beta_1, \\beta_2) = \\frac{\\beta_1\\beta_2}{\\beta_2 - \\beta_1}\\left(\\mathrm{e}^{-\\beta_1 t} - \\mathrm{e}^{-\\beta_2 t}\\right).\n",
    "\\end{align}\n",
    "\n",
    "*It turns out that if you want to compute a confidence region for these parameters, it is a **very** tricky calculation. If you want to attempt it, I encourage your to talk with course staff before attempting so we can apprise you of the dastardly pitfalls.* \n",
    "\n",
    "**d)** Which of these two models is preferred?\n",
    "\n",
    "**e)** Using whichever model you favor based on your work in parts (a–d), obtain parameter estimates for the other tubulin concentrations. Given that microtubules polymerize faster with higher tubulin concentrations, is there anything you can say about the occurrence of catastrophe by looking at the values of the parameters versus tubulin concentration?"
   ]
  },
  {
   "cell_type": "markdown",
   "metadata": {},
   "source": [
    "<br />"
   ]
  }
 ],
 "metadata": {
  "kernelspec": {
   "display_name": "Python 3 (ipykernel)",
   "language": "python",
   "name": "python3"
  },
  "language_info": {
   "codemirror_mode": {
    "name": "ipython",
    "version": 3
   },
   "file_extension": ".py",
   "mimetype": "text/x-python",
   "name": "python",
   "nbconvert_exporter": "python",
   "pygments_lexer": "ipython3",
   "version": "3.11.4"
  }
 },
 "nbformat": 4,
 "nbformat_minor": 4
}
